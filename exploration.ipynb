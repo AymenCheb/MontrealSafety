{
 "cells": [
  {
   "cell_type": "code",
   "execution_count": 90,
   "id": "94d79ab8-321e-4448-88a2-e2f6d4c1ce5e",
   "metadata": {},
   "outputs": [],
   "source": [
    "import pandas as pd\n",
    "import json"
   ]
  },
  {
   "cell_type": "code",
   "execution_count": 91,
   "id": "a9fd1c24-1906-4684-b02d-008c5ade1b76",
   "metadata": {
    "tags": []
   },
   "outputs": [],
   "source": [
    "df = pd.read_csv(\"server/data/actes-criminels.csv\")"
   ]
  },
  {
   "cell_type": "code",
   "execution_count": 92,
   "id": "764c6a85-259f-42a3-8226-b7173c8720c4",
   "metadata": {
    "tags": []
   },
   "outputs": [
    {
     "data": {
      "text/plain": [
       "244298"
      ]
     },
     "execution_count": 92,
     "metadata": {},
     "output_type": "execute_result"
    }
   ],
   "source": [
    "len(df)"
   ]
  },
  {
   "cell_type": "code",
   "execution_count": 93,
   "id": "d70f9b45-ed57-4ea1-b0d7-8fa14392e978",
   "metadata": {
    "tags": []
   },
   "outputs": [
    {
     "data": {
      "text/plain": [
       "41425"
      ]
     },
     "execution_count": 93,
     "metadata": {},
     "output_type": "execute_result"
    }
   ],
   "source": [
    "len(df) - len(df.dropna())"
   ]
  },
  {
   "cell_type": "code",
   "execution_count": 94,
   "id": "534e9f2f-88b7-4bf2-9c4b-0eec9b606be3",
   "metadata": {
    "tags": []
   },
   "outputs": [],
   "source": [
    "df = df.dropna()"
   ]
  },
  {
   "cell_type": "code",
   "execution_count": 95,
   "id": "a32c5c4d-c0ea-4551-9e48-22ac66db65ea",
   "metadata": {
    "tags": []
   },
   "outputs": [
    {
     "data": {
      "text/html": [
       "<div>\n",
       "<style scoped>\n",
       "    .dataframe tbody tr th:only-of-type {\n",
       "        vertical-align: middle;\n",
       "    }\n",
       "\n",
       "    .dataframe tbody tr th {\n",
       "        vertical-align: top;\n",
       "    }\n",
       "\n",
       "    .dataframe thead th {\n",
       "        text-align: right;\n",
       "    }\n",
       "</style>\n",
       "<table border=\"1\" class=\"dataframe\">\n",
       "  <thead>\n",
       "    <tr style=\"text-align: right;\">\n",
       "      <th></th>\n",
       "      <th>CATEGORIE</th>\n",
       "      <th>DATE</th>\n",
       "      <th>QUART</th>\n",
       "      <th>PDQ</th>\n",
       "      <th>X</th>\n",
       "      <th>Y</th>\n",
       "      <th>LONGITUDE</th>\n",
       "      <th>LATITUDE</th>\n",
       "    </tr>\n",
       "  </thead>\n",
       "  <tbody>\n",
       "    <tr>\n",
       "      <th>0</th>\n",
       "      <td>Vol de véhicule à moteur</td>\n",
       "      <td>2018-09-13</td>\n",
       "      <td>jour</td>\n",
       "      <td>30.0</td>\n",
       "      <td>294904.159001</td>\n",
       "      <td>5.047549e+06</td>\n",
       "      <td>-73.626778</td>\n",
       "      <td>45.567780</td>\n",
       "    </tr>\n",
       "    <tr>\n",
       "      <th>1</th>\n",
       "      <td>Vol de véhicule à moteur</td>\n",
       "      <td>2018-04-30</td>\n",
       "      <td>jour</td>\n",
       "      <td>30.0</td>\n",
       "      <td>294904.159001</td>\n",
       "      <td>5.047549e+06</td>\n",
       "      <td>-73.626778</td>\n",
       "      <td>45.567780</td>\n",
       "    </tr>\n",
       "    <tr>\n",
       "      <th>2</th>\n",
       "      <td>Vol de véhicule à moteur</td>\n",
       "      <td>2018-09-01</td>\n",
       "      <td>nuit</td>\n",
       "      <td>7.0</td>\n",
       "      <td>290274.565000</td>\n",
       "      <td>5.042150e+06</td>\n",
       "      <td>-73.685928</td>\n",
       "      <td>45.519122</td>\n",
       "    </tr>\n",
       "    <tr>\n",
       "      <th>6</th>\n",
       "      <td>Méfait</td>\n",
       "      <td>2017-07-30</td>\n",
       "      <td>jour</td>\n",
       "      <td>38.0</td>\n",
       "      <td>297654.715002</td>\n",
       "      <td>5.041877e+06</td>\n",
       "      <td>-73.591457</td>\n",
       "      <td>45.516776</td>\n",
       "    </tr>\n",
       "    <tr>\n",
       "      <th>8</th>\n",
       "      <td>Vol dans / sur véhicule à moteur</td>\n",
       "      <td>2017-08-01</td>\n",
       "      <td>jour</td>\n",
       "      <td>39.0</td>\n",
       "      <td>294259.780993</td>\n",
       "      <td>5.051450e+06</td>\n",
       "      <td>-73.635117</td>\n",
       "      <td>45.602873</td>\n",
       "    </tr>\n",
       "  </tbody>\n",
       "</table>\n",
       "</div>"
      ],
      "text/plain": [
       "                          CATEGORIE        DATE QUART   PDQ              X  \\\n",
       "0          Vol de véhicule à moteur  2018-09-13  jour  30.0  294904.159001   \n",
       "1          Vol de véhicule à moteur  2018-04-30  jour  30.0  294904.159001   \n",
       "2          Vol de véhicule à moteur  2018-09-01  nuit   7.0  290274.565000   \n",
       "6                            Méfait  2017-07-30  jour  38.0  297654.715002   \n",
       "8  Vol dans / sur véhicule à moteur  2017-08-01  jour  39.0  294259.780993   \n",
       "\n",
       "              Y  LONGITUDE   LATITUDE  \n",
       "0  5.047549e+06 -73.626778  45.567780  \n",
       "1  5.047549e+06 -73.626778  45.567780  \n",
       "2  5.042150e+06 -73.685928  45.519122  \n",
       "6  5.041877e+06 -73.591457  45.516776  \n",
       "8  5.051450e+06 -73.635117  45.602873  "
      ]
     },
     "execution_count": 95,
     "metadata": {},
     "output_type": "execute_result"
    }
   ],
   "source": [
    "df.head()"
   ]
  },
  {
   "cell_type": "code",
   "execution_count": 96,
   "id": "97c7719a-33a1-4e2c-8d2f-abcac0f10696",
   "metadata": {
    "tags": []
   },
   "outputs": [
    {
     "data": {
      "text/plain": [
       "'2015-01-01'"
      ]
     },
     "execution_count": 96,
     "metadata": {},
     "output_type": "execute_result"
    }
   ],
   "source": [
    "df[\"DATE\"].min()"
   ]
  },
  {
   "cell_type": "code",
   "execution_count": 97,
   "id": "39a8e465-195b-4004-8a11-ce09a1bf1188",
   "metadata": {
    "tags": []
   },
   "outputs": [
    {
     "data": {
      "text/plain": [
       "'2023-02-01'"
      ]
     },
     "execution_count": 97,
     "metadata": {},
     "output_type": "execute_result"
    }
   ],
   "source": [
    "df[\"DATE\"].max()"
   ]
  },
  {
   "cell_type": "code",
   "execution_count": 98,
   "id": "57c1a0e9-0029-46f1-9278-0d713f2c2960",
   "metadata": {
    "tags": []
   },
   "outputs": [],
   "source": [
    "df[\"DATE\"] = pd.to_datetime(df[\"DATE\"])"
   ]
  },
  {
   "cell_type": "code",
   "execution_count": 99,
   "id": "6bbefe4a-443c-4d96-90e7-1abbbe4bf257",
   "metadata": {
    "tags": []
   },
   "outputs": [
    {
     "data": {
      "text/plain": [
       "array(['jour', 'nuit', 'soir'], dtype=object)"
      ]
     },
     "execution_count": 99,
     "metadata": {},
     "output_type": "execute_result"
    }
   ],
   "source": [
    "df[\"QUART\"].unique()"
   ]
  },
  {
   "cell_type": "code",
   "execution_count": 100,
   "id": "1f73be90-de3c-4e41-8f6f-c1217e82c845",
   "metadata": {
    "tags": []
   },
   "outputs": [
    {
     "data": {
      "text/plain": [
       "array(['Vol de véhicule à moteur', 'Méfait',\n",
       "       'Vol dans / sur véhicule à moteur', 'Introduction',\n",
       "       'Vols qualifiés', 'Infractions entrainant la mort'], dtype=object)"
      ]
     },
     "execution_count": 100,
     "metadata": {},
     "output_type": "execute_result"
    }
   ],
   "source": [
    "df[\"CATEGORIE\"].unique()"
   ]
  },
  {
   "cell_type": "code",
   "execution_count": 101,
   "id": "5a07a080-bb90-4262-bbba-c0eee7924158",
   "metadata": {
    "tags": []
   },
   "outputs": [],
   "source": [
    "only_2023 = df[df[\"DATE\"].dt.year >= 2023]"
   ]
  },
  {
   "cell_type": "code",
   "execution_count": 112,
   "id": "4f7a83f3-9ba4-438d-b890-bda012136def",
   "metadata": {
    "tags": []
   },
   "outputs": [],
   "source": [
    "january_2023 = only_2023[only_2023[\"DATE\"] <= \"2023-01-31\"]\n",
    "last_2_weeks = january_2023[january_2023[\"DATE\"] >= \"2023-01-16\"]"
   ]
  },
  {
   "cell_type": "code",
   "execution_count": 111,
   "id": "2568ed8c-3131-467c-ad59-d5b496ce7687",
   "metadata": {
    "tags": []
   },
   "outputs": [
    {
     "data": {
      "text/plain": [
       "array(['Vol de véhicule à moteur', 'Vol dans / sur véhicule à moteur',\n",
       "       'Méfait', 'Introduction', 'Vols qualifiés',\n",
       "       'Infractions entrainant la mort'], dtype=object)"
      ]
     },
     "execution_count": 111,
     "metadata": {},
     "output_type": "execute_result"
    }
   ],
   "source": [
    "last_2_weeks[\"CATEGORIE\"].unique()"
   ]
  },
  {
   "cell_type": "code",
   "execution_count": 113,
   "id": "a2cc528a-8286-40c0-9b44-181c96cbcf41",
   "metadata": {
    "tags": []
   },
   "outputs": [],
   "source": [
    "last_2_weeks.to_csv(\"january_last_2.csv\")"
   ]
  },
  {
   "cell_type": "code",
   "execution_count": 19,
   "id": "c41e6756-6f95-4ade-8906-7515c5df12f0",
   "metadata": {
    "tags": []
   },
   "outputs": [],
   "source": [
    "only_2022 = df[df[\"DATE\"].dt.year >= 2022]"
   ]
  },
  {
   "cell_type": "code",
   "execution_count": 20,
   "id": "c0d8233c-980a-4fbc-8012-c87041d737f4",
   "metadata": {
    "tags": []
   },
   "outputs": [
    {
     "data": {
      "text/plain": [
       "29098"
      ]
     },
     "execution_count": 20,
     "metadata": {},
     "output_type": "execute_result"
    }
   ],
   "source": [
    "len(only_2022)"
   ]
  },
  {
   "cell_type": "code",
   "execution_count": 22,
   "id": "6fd69236-2d0e-4d2a-9ed5-f7c0e6a80d3e",
   "metadata": {
    "tags": []
   },
   "outputs": [
    {
     "data": {
      "text/plain": [
       "2118"
      ]
     },
     "execution_count": 22,
     "metadata": {},
     "output_type": "execute_result"
    }
   ],
   "source": [
    "len(only_2022[only_2022[\"DATE\"].dt.month == 12])"
   ]
  },
  {
   "cell_type": "code",
   "execution_count": 23,
   "id": "14ac567c-df13-42e0-8156-0e9d5a0c9597",
   "metadata": {
    "tags": []
   },
   "outputs": [],
   "source": [
    "december_2022 = only_2022[only_2022[\"DATE\"].dt.month == 12]"
   ]
  },
  {
   "cell_type": "code",
   "execution_count": 25,
   "id": "342d94e0-a34f-405a-9ee8-0492fd67b65b",
   "metadata": {
    "tags": []
   },
   "outputs": [
    {
     "data": {
      "text/plain": [
       "array(['Vol de véhicule à moteur', 'Introduction',\n",
       "       'Vol dans / sur véhicule à moteur', 'Méfait', 'Vols qualifiés',\n",
       "       'Infractions entrainant la mort'], dtype=object)"
      ]
     },
     "execution_count": 25,
     "metadata": {},
     "output_type": "execute_result"
    }
   ],
   "source": [
    "december_2022[\"CATEGORIE\"].unique()"
   ]
  },
  {
   "cell_type": "code",
   "execution_count": 26,
   "id": "8318f8c7-acfa-480a-87f0-492eda3a6abc",
   "metadata": {
    "tags": []
   },
   "outputs": [],
   "source": [
    "december_2022.to_csv(\"server/data/december_2022_crimes\")"
   ]
  },
  {
   "cell_type": "code",
   "execution_count": 61,
   "id": "4d15e030-8bbe-4c30-93f8-358d4f795ce8",
   "metadata": {
    "tags": []
   },
   "outputs": [],
   "source": [
    "def get_crimes_by_field(df, column, values):\n",
    "    eligible = df[df[column].isin(values)]\n",
    "    return eligible.apply(lambda x: x.to_json(), axis=1)"
   ]
  },
  {
   "cell_type": "code",
   "execution_count": 79,
   "id": "cca2dac0-d5df-4efb-965e-971ebb4421e3",
   "metadata": {
    "tags": []
   },
   "outputs": [],
   "source": [
    "def get_crimes_by_date(df, start, end):\n",
    "    \n",
    "    eligible = df.loc[(df['DATE'] >= start)\n",
    "                     & (df['DATE'] <= end)]\n",
    "    return eligible"
   ]
  },
  {
   "cell_type": "code",
   "execution_count": 62,
   "id": "9d5db356-188d-4cd4-ac80-72e71ce7e332",
   "metadata": {
    "tags": []
   },
   "outputs": [],
   "source": [
    "def get_crimes(quarts = None,  categories = None, start= \"2023-02-01\", end = \"2015-01-01\"):\n",
    "    result = get_crimes_by_date(pd.read_csv(default_dataset), start, end)\n",
    "    if quarts is not None:\n",
    "        result = get_crimes_by_field(result, \"QUART\", quarts)\n",
    "    if categories is not None:\n",
    "        result = get_crimes_by_date(result, \"CATEGORIE\", categories)\n",
    "    return result.apply(lambda x: x.to_json(), axis=1)"
   ]
  },
  {
   "cell_type": "code",
   "execution_count": 81,
   "id": "56310f60-2151-474a-86f3-ee7dbcd244ad",
   "metadata": {
    "tags": []
   },
   "outputs": [
    {
     "data": {
      "text/plain": [
       "213589    {\"CATEGORIE\":\"Introduction\",\"DATE\":16706304000...\n",
       "213590    {\"CATEGORIE\":\"M\\u00e9fait\",\"DATE\":167063040000...\n",
       "213598    {\"CATEGORIE\":\"Introduction\",\"DATE\":16707168000...\n",
       "213752    {\"CATEGORIE\":\"M\\u00e9fait\",\"DATE\":167071680000...\n",
       "213753    {\"CATEGORIE\":\"M\\u00e9fait\",\"DATE\":167071680000...\n",
       "                                ...                        \n",
       "244116    {\"CATEGORIE\":\"Vol de v\\u00e9hicule \\u00e0 mote...\n",
       "244122    {\"CATEGORIE\":\"Vol de v\\u00e9hicule \\u00e0 mote...\n",
       "244124    {\"CATEGORIE\":\"M\\u00e9fait\",\"DATE\":167080320000...\n",
       "244125    {\"CATEGORIE\":\"M\\u00e9fait\",\"DATE\":167080320000...\n",
       "244127    {\"CATEGORIE\":\"Vol dans \\/ sur v\\u00e9hicule \\u...\n",
       "Length: 187, dtype: object"
      ]
     },
     "execution_count": 82,
     "metadata": {},
     "output_type": "execute_result"
    }
   ],
   "source": [
    "dated = get_crimes_by_date(december_2022, \"2022-12-10\", \"2022-12-15\")\n",
    "get_crimes_by_field(dated, \"QUART\", [\"J\"])"
   ]
  },
  {
   "cell_type": "code",
   "execution_count": 51,
   "id": "da3960b3-7b27-40ab-97b4-34bbb73279ab",
   "metadata": {
    "tags": []
   },
   "outputs": [],
   "source": [
    "jsons = get_crimes_by_field(\"CATEGORIE\", [\"Méfait\", \"Vol de véhicule à moteur\"])"
   ]
  },
  {
   "cell_type": "code",
   "execution_count": 52,
   "id": "bfcac3f9-9ee7-41b1-b31a-d34ec0fdbf71",
   "metadata": {
    "tags": []
   },
   "outputs": [
    {
     "data": {
      "text/plain": [
       "0         {\"CATEGORIE\":\"Vol de v\\u00e9hicule \\u00e0 mote...\n",
       "1         {\"CATEGORIE\":\"Vol de v\\u00e9hicule \\u00e0 mote...\n",
       "2         {\"CATEGORIE\":\"Vol de v\\u00e9hicule \\u00e0 mote...\n",
       "6         {\"CATEGORIE\":\"M\\u00e9fait\",\"DATE\":150137280000...\n",
       "10        {\"CATEGORIE\":\"Vol de v\\u00e9hicule \\u00e0 mote...\n",
       "                                ...                        \n",
       "244280    {\"CATEGORIE\":\"M\\u00e9fait\",\"DATE\":166674240000...\n",
       "244281    {\"CATEGORIE\":\"Vol de v\\u00e9hicule \\u00e0 mote...\n",
       "244287    {\"CATEGORIE\":\"Vol de v\\u00e9hicule \\u00e0 mote...\n",
       "244292    {\"CATEGORIE\":\"M\\u00e9fait\",\"DATE\":166717440000...\n",
       "244293    {\"CATEGORIE\":\"M\\u00e9fait\",\"DATE\":166691520000...\n",
       "Length: 79986, dtype: object"
      ]
     },
     "execution_count": 52,
     "metadata": {},
     "output_type": "execute_result"
    }
   ],
   "source": [
    "jsons"
   ]
  },
  {
   "cell_type": "code",
   "execution_count": 56,
   "id": "340b40ea-f1df-40ba-b3b8-80175544f6e3",
   "metadata": {
    "tags": []
   },
   "outputs": [
    {
     "data": {
      "text/html": [
       "<div>\n",
       "<style scoped>\n",
       "    .dataframe tbody tr th:only-of-type {\n",
       "        vertical-align: middle;\n",
       "    }\n",
       "\n",
       "    .dataframe tbody tr th {\n",
       "        vertical-align: top;\n",
       "    }\n",
       "\n",
       "    .dataframe thead th {\n",
       "        text-align: right;\n",
       "    }\n",
       "</style>\n",
       "<table border=\"1\" class=\"dataframe\">\n",
       "  <thead>\n",
       "    <tr style=\"text-align: right;\">\n",
       "      <th></th>\n",
       "      <th>CATEGORIE</th>\n",
       "      <th>DATE</th>\n",
       "      <th>QUART</th>\n",
       "      <th>PDQ</th>\n",
       "      <th>X</th>\n",
       "      <th>Y</th>\n",
       "      <th>LONGITUDE</th>\n",
       "      <th>LATITUDE</th>\n",
       "    </tr>\n",
       "  </thead>\n",
       "  <tbody>\n",
       "    <tr>\n",
       "      <th>188276</th>\n",
       "      <td>Introduction</td>\n",
       "      <td>2022-01-25</td>\n",
       "      <td>jour</td>\n",
       "      <td>12.0</td>\n",
       "      <td>297357.344006</td>\n",
       "      <td>5.038477e+06</td>\n",
       "      <td>-73.595212</td>\n",
       "      <td>45.486178</td>\n",
       "    </tr>\n",
       "    <tr>\n",
       "      <th>193746</th>\n",
       "      <td>Vol dans / sur véhicule à moteur</td>\n",
       "      <td>2022-01-13</td>\n",
       "      <td>jour</td>\n",
       "      <td>46.0</td>\n",
       "      <td>300267.884000</td>\n",
       "      <td>5.053248e+06</td>\n",
       "      <td>-73.558115</td>\n",
       "      <td>45.619119</td>\n",
       "    </tr>\n",
       "    <tr>\n",
       "      <th>193747</th>\n",
       "      <td>Introduction</td>\n",
       "      <td>2022-01-19</td>\n",
       "      <td>jour</td>\n",
       "      <td>20.0</td>\n",
       "      <td>299287.578006</td>\n",
       "      <td>5.040727e+06</td>\n",
       "      <td>-73.570544</td>\n",
       "      <td>45.506444</td>\n",
       "    </tr>\n",
       "    <tr>\n",
       "      <th>193755</th>\n",
       "      <td>Méfait</td>\n",
       "      <td>2022-01-31</td>\n",
       "      <td>jour</td>\n",
       "      <td>12.0</td>\n",
       "      <td>298561.630996</td>\n",
       "      <td>5.039475e+06</td>\n",
       "      <td>-73.579818</td>\n",
       "      <td>45.495166</td>\n",
       "    </tr>\n",
       "    <tr>\n",
       "      <th>195073</th>\n",
       "      <td>Vol de véhicule à moteur</td>\n",
       "      <td>2022-01-02</td>\n",
       "      <td>jour</td>\n",
       "      <td>44.0</td>\n",
       "      <td>298653.985002</td>\n",
       "      <td>5.045337e+06</td>\n",
       "      <td>-73.578710</td>\n",
       "      <td>45.547920</td>\n",
       "    </tr>\n",
       "    <tr>\n",
       "      <th>...</th>\n",
       "      <td>...</td>\n",
       "      <td>...</td>\n",
       "      <td>...</td>\n",
       "      <td>...</td>\n",
       "      <td>...</td>\n",
       "      <td>...</td>\n",
       "      <td>...</td>\n",
       "      <td>...</td>\n",
       "    </tr>\n",
       "    <tr>\n",
       "      <th>235141</th>\n",
       "      <td>Vol de véhicule à moteur</td>\n",
       "      <td>2022-01-31</td>\n",
       "      <td>soir</td>\n",
       "      <td>7.0</td>\n",
       "      <td>287594.124990</td>\n",
       "      <td>5.038881e+06</td>\n",
       "      <td>-73.720124</td>\n",
       "      <td>45.489641</td>\n",
       "    </tr>\n",
       "    <tr>\n",
       "      <th>235142</th>\n",
       "      <td>Introduction</td>\n",
       "      <td>2022-02-01</td>\n",
       "      <td>jour</td>\n",
       "      <td>49.0</td>\n",
       "      <td>305338.435000</td>\n",
       "      <td>5.055484e+06</td>\n",
       "      <td>-73.493093</td>\n",
       "      <td>45.639256</td>\n",
       "    </tr>\n",
       "    <tr>\n",
       "      <th>235143</th>\n",
       "      <td>Vol dans / sur véhicule à moteur</td>\n",
       "      <td>2022-02-01</td>\n",
       "      <td>jour</td>\n",
       "      <td>1.0</td>\n",
       "      <td>271603.688000</td>\n",
       "      <td>5.033208e+06</td>\n",
       "      <td>-73.924310</td>\n",
       "      <td>45.438021</td>\n",
       "    </tr>\n",
       "    <tr>\n",
       "      <th>235144</th>\n",
       "      <td>Introduction</td>\n",
       "      <td>2022-02-01</td>\n",
       "      <td>jour</td>\n",
       "      <td>9.0</td>\n",
       "      <td>296340.618010</td>\n",
       "      <td>5.036678e+06</td>\n",
       "      <td>-73.608188</td>\n",
       "      <td>45.469981</td>\n",
       "    </tr>\n",
       "    <tr>\n",
       "      <th>235145</th>\n",
       "      <td>Introduction</td>\n",
       "      <td>2022-02-01</td>\n",
       "      <td>jour</td>\n",
       "      <td>22.0</td>\n",
       "      <td>300543.315000</td>\n",
       "      <td>5.041890e+06</td>\n",
       "      <td>-73.554484</td>\n",
       "      <td>45.516912</td>\n",
       "    </tr>\n",
       "  </tbody>\n",
       "</table>\n",
       "<p>1831 rows × 8 columns</p>\n",
       "</div>"
      ],
      "text/plain": [
       "                               CATEGORIE       DATE QUART   PDQ  \\\n",
       "188276                      Introduction 2022-01-25  jour  12.0   \n",
       "193746  Vol dans / sur véhicule à moteur 2022-01-13  jour  46.0   \n",
       "193747                      Introduction 2022-01-19  jour  20.0   \n",
       "193755                            Méfait 2022-01-31  jour  12.0   \n",
       "195073          Vol de véhicule à moteur 2022-01-02  jour  44.0   \n",
       "...                                  ...        ...   ...   ...   \n",
       "235141          Vol de véhicule à moteur 2022-01-31  soir   7.0   \n",
       "235142                      Introduction 2022-02-01  jour  49.0   \n",
       "235143  Vol dans / sur véhicule à moteur 2022-02-01  jour   1.0   \n",
       "235144                      Introduction 2022-02-01  jour   9.0   \n",
       "235145                      Introduction 2022-02-01  jour  22.0   \n",
       "\n",
       "                    X             Y  LONGITUDE   LATITUDE  \n",
       "188276  297357.344006  5.038477e+06 -73.595212  45.486178  \n",
       "193746  300267.884000  5.053248e+06 -73.558115  45.619119  \n",
       "193747  299287.578006  5.040727e+06 -73.570544  45.506444  \n",
       "193755  298561.630996  5.039475e+06 -73.579818  45.495166  \n",
       "195073  298653.985002  5.045337e+06 -73.578710  45.547920  \n",
       "...               ...           ...        ...        ...  \n",
       "235141  287594.124990  5.038881e+06 -73.720124  45.489641  \n",
       "235142  305338.435000  5.055484e+06 -73.493093  45.639256  \n",
       "235143  271603.688000  5.033208e+06 -73.924310  45.438021  \n",
       "235144  296340.618010  5.036678e+06 -73.608188  45.469981  \n",
       "235145  300543.315000  5.041890e+06 -73.554484  45.516912  \n",
       "\n",
       "[1831 rows x 8 columns]"
      ]
     },
     "execution_count": 56,
     "metadata": {},
     "output_type": "execute_result"
    }
   ],
   "source": [
    "get_crimes_by_date(\"2022-01-01\",\"2022-02-01\")"
   ]
  },
  {
   "cell_type": "code",
   "execution_count": null,
   "id": "a2ef7d15-821a-46b5-800d-a14ee4498c6c",
   "metadata": {},
   "outputs": [],
   "source": []
  }
 ],
 "metadata": {
  "kernelspec": {
   "display_name": "Python 3 (ipykernel)",
   "language": "python",
   "name": "python3"
  },
  "language_info": {
   "codemirror_mode": {
    "name": "ipython",
    "version": 3
   },
   "file_extension": ".py",
   "mimetype": "text/x-python",
   "name": "python",
   "nbconvert_exporter": "python",
   "pygments_lexer": "ipython3",
   "version": "3.10.7"
  }
 },
 "nbformat": 4,
 "nbformat_minor": 5
}
