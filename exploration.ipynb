{
 "cells": [
  {
   "cell_type": "code",
   "execution_count": 3,
   "id": "94d79ab8-321e-4448-88a2-e2f6d4c1ce5e",
   "metadata": {},
   "outputs": [],
   "source": [
    "import pandas as pd"
   ]
  },
  {
   "cell_type": "code",
   "execution_count": 6,
   "id": "a9fd1c24-1906-4684-b02d-008c5ade1b76",
   "metadata": {
    "tags": []
   },
   "outputs": [],
   "source": [
    "df = pd.read_csv(\"server/data/actes-criminels.csv\")"
   ]
  },
  {
   "cell_type": "code",
   "execution_count": 8,
   "id": "764c6a85-259f-42a3-8226-b7173c8720c4",
   "metadata": {
    "tags": []
   },
   "outputs": [
    {
     "data": {
      "text/plain": [
       "244298"
      ]
     },
     "execution_count": 8,
     "metadata": {},
     "output_type": "execute_result"
    }
   ],
   "source": [
    "len(df)"
   ]
  },
  {
   "cell_type": "code",
   "execution_count": 9,
   "id": "d70f9b45-ed57-4ea1-b0d7-8fa14392e978",
   "metadata": {
    "tags": []
   },
   "outputs": [
    {
     "data": {
      "text/plain": [
       "41425"
      ]
     },
     "execution_count": 9,
     "metadata": {},
     "output_type": "execute_result"
    }
   ],
   "source": [
    "len(df) - len(df.dropna())"
   ]
  },
  {
   "cell_type": "code",
   "execution_count": 10,
   "id": "534e9f2f-88b7-4bf2-9c4b-0eec9b606be3",
   "metadata": {
    "tags": []
   },
   "outputs": [],
   "source": [
    "df = df.dropna()"
   ]
  },
  {
   "cell_type": "code",
   "execution_count": 12,
   "id": "a32c5c4d-c0ea-4551-9e48-22ac66db65ea",
   "metadata": {
    "tags": []
   },
   "outputs": [
    {
     "data": {
      "text/html": [
       "<div>\n",
       "<style scoped>\n",
       "    .dataframe tbody tr th:only-of-type {\n",
       "        vertical-align: middle;\n",
       "    }\n",
       "\n",
       "    .dataframe tbody tr th {\n",
       "        vertical-align: top;\n",
       "    }\n",
       "\n",
       "    .dataframe thead th {\n",
       "        text-align: right;\n",
       "    }\n",
       "</style>\n",
       "<table border=\"1\" class=\"dataframe\">\n",
       "  <thead>\n",
       "    <tr style=\"text-align: right;\">\n",
       "      <th></th>\n",
       "      <th>CATEGORIE</th>\n",
       "      <th>DATE</th>\n",
       "      <th>QUART</th>\n",
       "      <th>PDQ</th>\n",
       "      <th>X</th>\n",
       "      <th>Y</th>\n",
       "      <th>LONGITUDE</th>\n",
       "      <th>LATITUDE</th>\n",
       "    </tr>\n",
       "  </thead>\n",
       "  <tbody>\n",
       "    <tr>\n",
       "      <th>0</th>\n",
       "      <td>Vol de véhicule à moteur</td>\n",
       "      <td>2018-09-13</td>\n",
       "      <td>jour</td>\n",
       "      <td>30.0</td>\n",
       "      <td>294904.159001</td>\n",
       "      <td>5.047549e+06</td>\n",
       "      <td>-73.626778</td>\n",
       "      <td>45.567780</td>\n",
       "    </tr>\n",
       "    <tr>\n",
       "      <th>1</th>\n",
       "      <td>Vol de véhicule à moteur</td>\n",
       "      <td>2018-04-30</td>\n",
       "      <td>jour</td>\n",
       "      <td>30.0</td>\n",
       "      <td>294904.159001</td>\n",
       "      <td>5.047549e+06</td>\n",
       "      <td>-73.626778</td>\n",
       "      <td>45.567780</td>\n",
       "    </tr>\n",
       "    <tr>\n",
       "      <th>2</th>\n",
       "      <td>Vol de véhicule à moteur</td>\n",
       "      <td>2018-09-01</td>\n",
       "      <td>nuit</td>\n",
       "      <td>7.0</td>\n",
       "      <td>290274.565000</td>\n",
       "      <td>5.042150e+06</td>\n",
       "      <td>-73.685928</td>\n",
       "      <td>45.519122</td>\n",
       "    </tr>\n",
       "    <tr>\n",
       "      <th>6</th>\n",
       "      <td>Méfait</td>\n",
       "      <td>2017-07-30</td>\n",
       "      <td>jour</td>\n",
       "      <td>38.0</td>\n",
       "      <td>297654.715002</td>\n",
       "      <td>5.041877e+06</td>\n",
       "      <td>-73.591457</td>\n",
       "      <td>45.516776</td>\n",
       "    </tr>\n",
       "    <tr>\n",
       "      <th>8</th>\n",
       "      <td>Vol dans / sur véhicule à moteur</td>\n",
       "      <td>2017-08-01</td>\n",
       "      <td>jour</td>\n",
       "      <td>39.0</td>\n",
       "      <td>294259.780993</td>\n",
       "      <td>5.051450e+06</td>\n",
       "      <td>-73.635117</td>\n",
       "      <td>45.602873</td>\n",
       "    </tr>\n",
       "  </tbody>\n",
       "</table>\n",
       "</div>"
      ],
      "text/plain": [
       "                          CATEGORIE        DATE QUART   PDQ              X  \\\n",
       "0          Vol de véhicule à moteur  2018-09-13  jour  30.0  294904.159001   \n",
       "1          Vol de véhicule à moteur  2018-04-30  jour  30.0  294904.159001   \n",
       "2          Vol de véhicule à moteur  2018-09-01  nuit   7.0  290274.565000   \n",
       "6                            Méfait  2017-07-30  jour  38.0  297654.715002   \n",
       "8  Vol dans / sur véhicule à moteur  2017-08-01  jour  39.0  294259.780993   \n",
       "\n",
       "              Y  LONGITUDE   LATITUDE  \n",
       "0  5.047549e+06 -73.626778  45.567780  \n",
       "1  5.047549e+06 -73.626778  45.567780  \n",
       "2  5.042150e+06 -73.685928  45.519122  \n",
       "6  5.041877e+06 -73.591457  45.516776  \n",
       "8  5.051450e+06 -73.635117  45.602873  "
      ]
     },
     "execution_count": 12,
     "metadata": {},
     "output_type": "execute_result"
    }
   ],
   "source": [
    "df.head()"
   ]
  },
  {
   "cell_type": "code",
   "execution_count": 16,
   "id": "57c1a0e9-0029-46f1-9278-0d713f2c2960",
   "metadata": {
    "tags": []
   },
   "outputs": [],
   "source": [
    "df[\"DATE\"] = pd.to_datetime(df[\"DATE\"])"
   ]
  },
  {
   "cell_type": "code",
   "execution_count": 14,
   "id": "6bbefe4a-443c-4d96-90e7-1abbbe4bf257",
   "metadata": {
    "tags": []
   },
   "outputs": [
    {
     "data": {
      "text/plain": [
       "array(['jour', 'nuit', 'soir'], dtype=object)"
      ]
     },
     "execution_count": 14,
     "metadata": {},
     "output_type": "execute_result"
    }
   ],
   "source": [
    "df[\"QUART\"].unique()"
   ]
  },
  {
   "cell_type": "code",
   "execution_count": 15,
   "id": "1f73be90-de3c-4e41-8f6f-c1217e82c845",
   "metadata": {
    "tags": []
   },
   "outputs": [
    {
     "data": {
      "text/plain": [
       "array(['Vol de véhicule à moteur', 'Méfait',\n",
       "       'Vol dans / sur véhicule à moteur', 'Introduction',\n",
       "       'Vols qualifiés', 'Infractions entrainant la mort'], dtype=object)"
      ]
     },
     "execution_count": 15,
     "metadata": {},
     "output_type": "execute_result"
    }
   ],
   "source": [
    "df[\"CATEGORIE\"].unique()"
   ]
  },
  {
   "cell_type": "code",
   "execution_count": 19,
   "id": "c41e6756-6f95-4ade-8906-7515c5df12f0",
   "metadata": {
    "tags": []
   },
   "outputs": [],
   "source": [
    "only_2022 = df[df[\"DATE\"].dt.year >= 2022]"
   ]
  },
  {
   "cell_type": "code",
   "execution_count": 20,
   "id": "c0d8233c-980a-4fbc-8012-c87041d737f4",
   "metadata": {
    "tags": []
   },
   "outputs": [
    {
     "data": {
      "text/plain": [
       "29098"
      ]
     },
     "execution_count": 20,
     "metadata": {},
     "output_type": "execute_result"
    }
   ],
   "source": [
    "len(only_2022)"
   ]
  },
  {
   "cell_type": "code",
   "execution_count": 22,
   "id": "6fd69236-2d0e-4d2a-9ed5-f7c0e6a80d3e",
   "metadata": {
    "tags": []
   },
   "outputs": [
    {
     "data": {
      "text/plain": [
       "2118"
      ]
     },
     "execution_count": 22,
     "metadata": {},
     "output_type": "execute_result"
    }
   ],
   "source": [
    "len(only_2022[only_2022[\"DATE\"].dt.month == 12])"
   ]
  },
  {
   "cell_type": "code",
   "execution_count": 23,
   "id": "14ac567c-df13-42e0-8156-0e9d5a0c9597",
   "metadata": {
    "tags": []
   },
   "outputs": [],
   "source": [
    "december_2022 = only_2022[only_2022[\"DATE\"].dt.month == 12]"
   ]
  },
  {
   "cell_type": "code",
   "execution_count": 25,
   "id": "342d94e0-a34f-405a-9ee8-0492fd67b65b",
   "metadata": {
    "tags": []
   },
   "outputs": [
    {
     "data": {
      "text/plain": [
       "array(['Vol de véhicule à moteur', 'Introduction',\n",
       "       'Vol dans / sur véhicule à moteur', 'Méfait', 'Vols qualifiés',\n",
       "       'Infractions entrainant la mort'], dtype=object)"
      ]
     },
     "execution_count": 25,
     "metadata": {},
     "output_type": "execute_result"
    }
   ],
   "source": [
    "december_2022[\"CATEGORIE\"].unique()"
   ]
  },
  {
   "cell_type": "code",
   "execution_count": 26,
   "id": "8318f8c7-acfa-480a-87f0-492eda3a6abc",
   "metadata": {
    "tags": []
   },
   "outputs": [],
   "source": [
    "december_2022.to_csv(\"server/data/december_2022_crimes\")"
   ]
  },
  {
   "cell_type": "code",
   "execution_count": 28,
   "id": "4d15e030-8bbe-4c30-93f8-358d4f795ce8",
   "metadata": {
    "tags": []
   },
   "outputs": [],
   "source": [
    "def get_crimes_by_field(column: str = None, value: str = None):\n",
    "    eligible = df[df[column] == value]"
   ]
  },
  {
   "cell_type": "code",
   "execution_count": null,
   "id": "da3960b3-7b27-40ab-97b4-34bbb73279ab",
   "metadata": {},
   "outputs": [],
   "source": []
  }
 ],
 "metadata": {
  "kernelspec": {
   "display_name": "Python 3 (ipykernel)",
   "language": "python",
   "name": "python3"
  },
  "language_info": {
   "codemirror_mode": {
    "name": "ipython",
    "version": 3
   },
   "file_extension": ".py",
   "mimetype": "text/x-python",
   "name": "python",
   "nbconvert_exporter": "python",
   "pygments_lexer": "ipython3",
   "version": "3.10.7"
  }
 },
 "nbformat": 4,
 "nbformat_minor": 5
}
